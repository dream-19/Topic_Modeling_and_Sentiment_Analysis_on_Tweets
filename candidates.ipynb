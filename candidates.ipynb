{
 "cells": [
  {
   "cell_type": "code",
   "execution_count": 1,
   "metadata": {},
   "outputs": [],
   "source": [
    "import os\n",
    "import csv\n",
    "import pandas as pd"
   ]
  },
  {
   "cell_type": "markdown",
   "metadata": {},
   "source": [
    "Elenco account dei candidati:\n",
    "\n",
    "@marwilliamson, Marianne Williamson, democratico\n",
    "\n",
    "@POTUS, Joe Biden, democratico\n",
    "\n",
    "@RobertKennedyJr, Robert F. Kennedy Jr, indipendente\n",
    "\n",
    "@Mike_Pence, Mike Pence, repubblicano\n",
    "\n",
    "@NikkiHaley, Nikki Haley, repubblicano\n",
    "\n",
    "@VivekGRamaswamy, Vivek Ramaswamy, repubblicano\n",
    "\n",
    "@PJQualityGuru, Perry Johnson, repubblicano\n",
    "\n",
    "@larryelder, Larry Elder, repubblicano\n",
    "\n",
    "@RyanBinkley, Ryan Binkley, repubblicano\n",
    "\n",
    "@SenatorTimScott, Tim Scott, repubblicano\n",
    "\n",
    "@RonDeSantis, Ron De Santis, repubblicano\n",
    "\n",
    "@GovChristie, Chris Christie, repubblicano\n",
    "\n",
    "@GovDougBurgum, Doug Burgum, repubblicano\n",
    "\n",
    "@WillHurd, Will Hurd, repubblicano\n",
    "\n",
    "\n",
    "@TheDemocrats, democratici, democratici\n",
    "\n",
    "@HouseDemocrats, House Democratici, democratici\n",
    "\n",
    "@dscc, Senato Democratici, senato democratici\n",
    "\n",
    "@GOP, repubblicani, repubblicani\n",
    "\n",
    "@HouseGOP, House Repubblicani, repubblicani\n",
    "\n",
    "@SenateGOP, Senato Repubblicani, senato repubblicano\n"
   ]
  },
  {
   "cell_type": "code",
   "execution_count": 2,
   "metadata": {},
   "outputs": [],
   "source": [
    "candidates = {\n",
    "    \"@marwilliamson\": (\"Marianne Williamson\", \"democratico\"),\n",
    "    \"@POTUS\": (\"Joe Biden\", \"democratico\"),\n",
    "    \"@RobertKennedyJr\": (\"Robert F. Kennedy Jr\", \"indipendent\"),\n",
    "    \"@Mike_Pence\": (\"Mike Pence\", \"repubblicano\"), #RITIRATO\n",
    "    \"@NikkiHaley\": (\"Nikki Haley\", \"repubblicano\"),\n",
    "    \"@VivekGRamaswamy\": (\"Vivek Ramaswamy\", \"repubblicano\"),\n",
    "    \"@PJQualityGuru\": (\"Perry Johnson\", \"repubblicano\"),\n",
    "    \"@larryelder\": (\"Larry Elder\", \"repubblicano\"),\n",
    "    \"@RyanBinkley\": (\"Ryan Binkley\", \"repubblicano\"),\n",
    "    \"@SenatorTimScott\": (\"Tim Scott\", \"repubblicano\"), \n",
    "    \"@RonDeSantis\": (\"Ron De Santis\", \"repubblicano\"),\n",
    "    \"@GovChristie\": (\"Chris Christie\", \"repubblicano\"),\n",
    "    \"@GovDougBurgum\": (\"Doug Burgum\", \"repubblicano\"),\n",
    "    \"@WillHurd\": (\"Will Hurd\", \"repubblicano\"),\n",
    "    \n",
    "    \"@TheDemocrats\": (\"democratici\", \"democratici\"),\n",
    "    \"@HouseDemocrats\": (\"house democratici\", \"democratici\"),\n",
    "    \"@dscc\": (\"senato democratici\", \"senato democratici\"),\n",
    "    \"@GOP\": (\"repubblicani\", \"repubblicani\"),\n",
    "    \"@HouseGOP\": (\"house repubblicani\", \"repubblicani\"),\n",
    "    \"@SenateGOP\": (\"senato repubblicani\", \"senato repubblicano\"),\n",
    "}\n"
   ]
  },
  {
   "cell_type": "code",
   "execution_count": 3,
   "metadata": {},
   "outputs": [],
   "source": [
    "def get_info(name, party, candidate, dataframe):\n",
    "    candidate = candidate.split(\"@\")[1]\n",
    "    \n",
    "    # Converti la colonna 'date' in formato datetime\n",
    "    dataframe['date'] = pd.to_datetime(dataframe['date'])\n",
    "    # Filtra il DataFrame per l'utente specifico\n",
    "    user_data = dataframe[dataframe['username'] == candidate]\n",
    "    \n",
    "    n_tweet = len(user_data)\n",
    "\n",
    "\n",
    "    # Calcola la data più vecchia e più recente per l'utente specifico\n",
    "    date_range = (user_data['date'].min().strftime('%Y-%m-%d'), user_data['date'].max().strftime('%Y-%m-%d'))\n",
    "    print(f\"{name} ({party}) - @{candidate}, from: {date_range[0]} to: {date_range[1]}, num: {n_tweet}\")\n",
    "\n",
    "    return n_tweet    "
   ]
  },
  {
   "cell_type": "code",
   "execution_count": 4,
   "metadata": {},
   "outputs": [
    {
     "name": "stdout",
     "output_type": "stream",
     "text": [
      "Marianne Williamson (democratico) - @marwilliamson, from: 2023-03-06 to: 2023-10-20, num: 671\n",
      "Joe Biden (democratico) - @POTUS, from: 2021-06-05 to: 2023-10-20, num: 920\n",
      "Robert F. Kennedy Jr (indipendent) - @RobertKennedyJr, from: 2023-05-19 to: 2023-10-19, num: 750\n",
      "Mike Pence (repubblicano) - @Mike_Pence, from: 2023-06-19 to: 2023-10-20, num: 869\n",
      "Nikki Haley (repubblicano) - @NikkiHaley, from: 2023-07-08 to: 2023-10-20, num: 824\n",
      "Vivek Ramaswamy (repubblicano) - @VivekGRamaswamy, from: 2023-02-24 to: 2023-10-20, num: 851\n",
      "Perry Johnson (repubblicano) - @PJQualityGuru, from: 2023-06-13 to: 2023-09-26, num: 305\n",
      "Larry Elder (repubblicano) - @larryelder, from: 2023-06-29 to: 2023-10-20, num: 806\n",
      "Ryan Binkley (repubblicano) - @RyanBinkley, from: 2021-09-08 to: 2023-10-18, num: 287\n",
      "Tim Scott (repubblicano) - @SenatorTimScott, from: 2023-01-17 to: 2023-10-19, num: 838\n",
      "Ron De Santis (repubblicano) - @RonDeSantis, from: 2023-03-17 to: 2023-10-20, num: 350\n",
      "Chris Christie (repubblicano) - @GovChristie, from: 2021-02-23 to: 2023-10-19, num: 838\n",
      "Doug Burgum (repubblicano) - @GovDougBurgum, from: 2022-08-15 to: 2023-10-06, num: 386\n",
      "Will Hurd (repubblicano) - @WillHurd, from: 2023-02-17 to: 2023-10-05, num: 794\n",
      "democratici (democratici) - @TheDemocrats, from: 2023-01-06 to: 2023-10-20, num: 825\n",
      "house democratici (democratici) - @HouseDemocrats, from: 2023-04-12 to: 2023-10-19, num: 843\n",
      "senato democratici (senato democratici) - @dscc, from: 2022-09-13 to: 2023-10-19, num: 819\n",
      "repubblicani (repubblicani) - @GOP, from: 2022-12-04 to: 2023-10-20, num: 900\n",
      "house repubblicani (repubblicani) - @HouseGOP, from: 2023-04-30 to: 2023-10-18, num: 871\n",
      "senato repubblicani (senato repubblicano) - @SenateGOP, from: 2023-01-27 to: 2023-10-19, num: 756\n",
      "Totale tweet candidati:  14503\n"
     ]
    }
   ],
   "source": [
    "#Analisi dei tweet dei candidati e del periodo in cui sono spalmati\n",
    "source = \"./doc/sentiment_analysis.csv\"\n",
    "df = pd.read_csv(source)\n",
    "\n",
    "tot_tweet = 0\n",
    "for candidate in candidates:\n",
    "    tot = get_info(candidates[candidate][0],candidates[candidate][1], candidate, df)\n",
    "    tot_tweet += tot\n",
    "print(\"Totale tweet candidati: \", tot_tweet)"
   ]
  },
  {
   "cell_type": "code",
   "execution_count": 12,
   "metadata": {},
   "outputs": [
    {
     "name": "stdout",
     "output_type": "stream",
     "text": [
      "From traveling across the country to defend reproductive rights to making the case for gun safety reform—Vice President Harris has been fighting for the American people since day one. https://t.co/U4HHSJclJA\n",
      "\n",
      "We stand for the right to love openly. We stand for the right to live free from gun violence. We stand for our children's rights to learn America's full history. We stand for the right of a woman to make decisions about their own body. We stand for our democracy. https://t.co/bKnzx9uVBt\n",
      "\n",
      "ENDORSEMENT ALERT 🚨 “She will secure the border, defend our gun rights &amp; protect the conservative values we hold dear. When AZ voters go to the polls this week, I urge them to select the conservative we can trust: Karrin Taylor Robson.” - @Stitt4Gov #AZgov https://t.co/FZknMvKMVN\n",
      "\n",
      "If you are LGBTQ+, you should move to Michigan. If you are a woman who wants to make your own damn decisions, you should move to Michigan. If you are a worker who wants rights, you should move to Michigan. If you want common sense gun policies, come on, move to Michigan! https://t.co/eOpRmnbSMM\n",
      "\n",
      "Across our country, we are seeing a full-on attack against hard-won freedoms. The freedom to make decisions about your own body. The freedom to love who you love. The freedom to be free from gun violence. The freedom to vote. We have a responsibility to protect these freedoms. https://t.co/H6ojNFbOZJ\n",
      "\n",
      "RT @I just introduced legislation to fight back against all the unconstitutional gun control legislation implemented by Joe Biden and the Radical Left. Stand with me &amp; support my campaign so that our fight for the Second Amendment only grows STRONGER! https://t.co/ORFn5nQFsl\n",
      "\n",
      "To our nation's young leaders: You are powerful and your vote is your voice. When you vote, it determines whether your elected officials will fight for your right to be free from hate and gun violence. This and more is at stake. https://t.co/KXcfEavGdf\n",
      "\n",
      "Today, the Illinois Supreme Court rightfully upheld our state’s assault weapons ban. We need more commonsense gun safety laws to keep Americans safe, not fewer. I won’t stop working until we pass a nationwide ban to get weapons of war off our streets for good.\n",
      "\n",
      "It’s National Voter Registration Day! There is so much at stake: reproductive freedom, gun safety, LGBTQ+ rights, climate action, and much more. To ensure your voice is heard, check your voter registration: https://t.co/ZKn8fJEh9z https://t.co/y7EG0btwqh\n",
      "\n",
      "I'm Denise Wilkerson, and I'm running to unseat extremist Tony Tinderholt and represent Texas House District 94! Together, let's #flip94. I'm committed to protecting public education, reducing gun violence, and striving for social justice and equality. https://t.co/tHFmY2hJnY https://t.co/zlyTpzovlq\n",
      "\n",
      "It is time to change the filibuster to restore the Senate, protect democracy, and advance legislation on voting rights, abortion rights, gun violence prevention and more.\n",
      "\n"
     ]
    }
   ],
   "source": [
    "source = \"./doc/sentiment_analysis.csv\"\n",
    "df = pd.read_csv(source)\n",
    "df_topic = df[(df['first_topic'] == 7) & (df['emotion'] >= 'optimism') ] #guns \n",
    "\n",
    "sample = df_topic.sample(1000)\n",
    "for s in sample['text']:\n",
    "    if 'gun' in s:\n",
    "        print(s+ \"\\n\")\n",
    "    "
   ]
  }
 ],
 "metadata": {
  "kernelspec": {
   "display_name": "Python 3",
   "language": "python",
   "name": "python3"
  },
  "language_info": {
   "codemirror_mode": {
    "name": "ipython",
    "version": 3
   },
   "file_extension": ".py",
   "mimetype": "text/x-python",
   "name": "python",
   "nbconvert_exporter": "python",
   "pygments_lexer": "ipython3",
   "version": "3.10.13"
  }
 },
 "nbformat": 4,
 "nbformat_minor": 2
}
