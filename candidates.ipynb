{
 "cells": [
  {
   "cell_type": "code",
   "execution_count": 42,
   "metadata": {},
   "outputs": [],
   "source": [
    "import os\n",
    "import csv\n",
    "import pandas as pd"
   ]
  },
  {
   "cell_type": "markdown",
   "metadata": {},
   "source": [
    "Elenco account dei candidati:\n",
    "\n",
    "@marwilliamson, Marianne Williamson, democratico\n",
    "\n",
    "@POTUS, Joe Biden, democratico\n",
    "\n",
    "@RobertKennedyJr, Robert F. Kennedy Jr, indipendente\n",
    "\n",
    "@Mike_Pence, Mike Pence, repubblicano\n",
    "\n",
    "@NikkiHaley, Nikki Haley, repubblicano\n",
    "\n",
    "@VivekGRamaswamy, Vivek Ramaswamy, repubblicano\n",
    "\n",
    "@PJQualityGuru, Perry Johnson, repubblicano\n",
    "\n",
    "@larryelder, Larry Elder, repubblicano\n",
    "\n",
    "@RyanBinkley, Ryan Binkley, repubblicano\n",
    "\n",
    "@SenatorTimScott, Tim Scott, repubblicano\n",
    "\n",
    "@RonDeSantis, Ron De Santis, repubblicano\n",
    "\n",
    "@GovChristie, Chris Christie, repubblicano\n",
    "\n",
    "@GovDougBurgum, Doug Burgum, repubblicano\n",
    "\n",
    "@WillHurd, Will Hurd, repubblicano\n",
    "\n",
    "\n",
    "@TheDemocrats, democratici, democratici\n",
    "\n",
    "@HouseDemocrats, House Democratici, democratici\n",
    "\n",
    "@dscc, Senato Democratici, senato democratici\n",
    "\n",
    "@GOP, repubblicani, repubblicani\n",
    "\n",
    "@HouseGOP, House Repubblicani, repubblicani\n",
    "\n",
    "@SenateGOP, Senato Repubblicani, senato repubblicano\n"
   ]
  },
  {
   "cell_type": "code",
   "execution_count": 43,
   "metadata": {},
   "outputs": [],
   "source": [
    "candidates = {\n",
    "    \"@marwilliamson\": (\"Marianne Williamson\", \"democratico\"),\n",
    "    \"@POTUS\": (\"Joe Biden\", \"democratico\"),\n",
    "    \"@RobertKennedyJr\": (\"Robert F. Kennedy Jr\", \"indipendent\"),\n",
    "    \"@Mike_Pence\": (\"Mike Pence\", \"repubblicano\"), #RITIRATO\n",
    "    \"@NikkiHaley\": (\"Nikki Haley\", \"repubblicano\"),\n",
    "    \"@VivekGRamaswamy\": (\"Vivek Ramaswamy\", \"repubblicano\"),\n",
    "    \"@PJQualityGuru\": (\"Perry Johnson\", \"repubblicano\"),\n",
    "    \"@larryelder\": (\"Larry Elder\", \"repubblicano\"),\n",
    "    \"@RyanBinkley\": (\"Ryan Binkley\", \"repubblicano\"),\n",
    "    \"@SenatorTimScott\": (\"Tim Scott\", \"repubblicano\"), \n",
    "    \"@RonDeSantis\": (\"Ron De Santis\", \"repubblicano\"),\n",
    "    \"@GovChristie\": (\"Chris Christie\", \"repubblicano\"),\n",
    "    \"@GovDougBurgum\": (\"Doug Burgum\", \"repubblicano\"),\n",
    "    \"@WillHurd\": (\"Will Hurd\", \"repubblicano\"),\n",
    "    \n",
    "    \"@TheDemocrats\": (\"democratici\", \"democratici\"),\n",
    "    \"@HouseDemocrats\": (\"house democratici\", \"democratici\"),\n",
    "    \"@dscc\": (\"senato democratici\", \"senato democratici\"),\n",
    "    \"@GOP\": (\"repubblicani\", \"repubblicani\"),\n",
    "    \"@HouseGOP\": (\"house repubblicani\", \"repubblicani\"),\n",
    "    \"@SenateGOP\": (\"senato repubblicani\", \"senato repubblicano\"),\n",
    "}\n"
   ]
  },
  {
   "cell_type": "code",
   "execution_count": 44,
   "metadata": {},
   "outputs": [],
   "source": [
    "def get_info(name, party, candidate, dataframe):\n",
    "    candidate = candidate.split(\"@\")[1]\n",
    "    \n",
    "    # Converti la colonna 'date' in formato datetime\n",
    "    dataframe['date'] = pd.to_datetime(dataframe['date'])\n",
    "    # Filtra il DataFrame per l'utente specifico\n",
    "    user_data = dataframe[dataframe['username'] == candidate]\n",
    "    \n",
    "    n_tweet = len(user_data)\n",
    "\n",
    "\n",
    "    # Calcola la data più vecchia e più recente per l'utente specifico\n",
    "    date_range = (user_data['date'].min().strftime('%Y-%m-%d'), user_data['date'].max().strftime('%Y-%m-%d'))\n",
    "    print(f\"{name} ({party}) - @{candidate}, from: {date_range[0]} to: {date_range[1]}, num: {n_tweet}\")\n",
    "\n",
    "    return n_tweet    "
   ]
  },
  {
   "cell_type": "code",
   "execution_count": 45,
   "metadata": {},
   "outputs": [
    {
     "name": "stdout",
     "output_type": "stream",
     "text": [
      "Marianne Williamson (democratico) - @marwilliamson, from: 2023-03-06 to: 2023-10-20, num: 671\n",
      "Joe Biden (democratico) - @POTUS, from: 2021-06-05 to: 2023-10-20, num: 920\n",
      "Robert F. Kennedy Jr (indipendent) - @RobertKennedyJr, from: 2023-05-19 to: 2023-10-19, num: 750\n",
      "Mike Pence (repubblicano) - @Mike_Pence, from: 2023-06-19 to: 2023-10-20, num: 869\n",
      "Nikki Haley (repubblicano) - @NikkiHaley, from: 2023-07-08 to: 2023-10-20, num: 824\n",
      "Vivek Ramaswamy (repubblicano) - @VivekGRamaswamy, from: 2023-02-24 to: 2023-10-20, num: 851\n",
      "Perry Johnson (repubblicano) - @PJQualityGuru, from: 2023-06-13 to: 2023-09-26, num: 305\n",
      "Larry Elder (repubblicano) - @larryelder, from: 2023-06-29 to: 2023-10-20, num: 806\n",
      "Ryan Binkley (repubblicano) - @RyanBinkley, from: 2021-09-08 to: 2023-10-18, num: 287\n",
      "Tim Scott (repubblicano) - @SenatorTimScott, from: 2023-01-17 to: 2023-10-19, num: 838\n",
      "Ron De Santis (repubblicano) - @RonDeSantis, from: 2023-03-17 to: 2023-10-20, num: 350\n",
      "Chris Christie (repubblicano) - @GovChristie, from: 2021-02-23 to: 2023-10-19, num: 838\n",
      "Doug Burgum (repubblicano) - @GovDougBurgum, from: 2022-08-15 to: 2023-10-06, num: 386\n",
      "Will Hurd (repubblicano) - @WillHurd, from: 2023-02-17 to: 2023-10-05, num: 794\n",
      "democratici (democratici) - @TheDemocrats, from: 2023-01-06 to: 2023-10-20, num: 825\n",
      "house democratici (democratici) - @HouseDemocrats, from: 2023-04-12 to: 2023-10-19, num: 843\n",
      "senato democratici (senato democratici) - @dscc, from: 2022-09-13 to: 2023-10-19, num: 819\n",
      "repubblicani (repubblicani) - @GOP, from: 2022-12-04 to: 2023-10-20, num: 900\n",
      "house repubblicani (repubblicani) - @HouseGOP, from: 2023-04-30 to: 2023-10-18, num: 871\n",
      "senato repubblicani (senato repubblicano) - @SenateGOP, from: 2023-01-27 to: 2023-10-19, num: 756\n",
      "Totale tweet candidati:  14503\n"
     ]
    }
   ],
   "source": [
    "#Analisi dei tweet dei candidati e del periodo in cui sono spalmati\n",
    "source = \"./doc/sentiment_analysis.csv\"\n",
    "df = pd.read_csv(source)\n",
    "\n",
    "tot_tweet = 0\n",
    "for candidate in candidates:\n",
    "    tot = get_info(candidates[candidate][0],candidates[candidate][1], candidate, df)\n",
    "    tot_tweet += tot\n",
    "print(\"Totale tweet candidati: \", tot_tweet)"
   ]
  }
 ],
 "metadata": {
  "kernelspec": {
   "display_name": "Python 3",
   "language": "python",
   "name": "python3"
  },
  "language_info": {
   "codemirror_mode": {
    "name": "ipython",
    "version": 3
   },
   "file_extension": ".py",
   "mimetype": "text/x-python",
   "name": "python",
   "nbconvert_exporter": "python",
   "pygments_lexer": "ipython3",
   "version": "3.10.13"
  }
 },
 "nbformat": 4,
 "nbformat_minor": 2
}
