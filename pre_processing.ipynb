{
 "cells": [
  {
   "cell_type": "code",
   "execution_count": 2,
   "metadata": {},
   "outputs": [],
   "source": [
    "import os\n",
    "import pandas as pd"
   ]
  },
  {
   "cell_type": "code",
   "execution_count": 11,
   "metadata": {},
   "outputs": [],
   "source": [
    "#Merging all the csv files into one\n",
    "source = './scraper_new/files/'\n",
    "destination = './doc'\n",
    "\n",
    "#Creating merged.csv with header\n",
    "data = {'username': [],\n",
    "        'date': [],\n",
    "        'text': []}\n",
    "\n",
    "df = pd.DataFrame(data)\n",
    "\n",
    "file_name = '/merged.csv'\n",
    "df.to_csv(destination + file_name, index=False, header=True)\n",
    "\n",
    "#Merging all the csv files into one\n",
    "for file in os.listdir(source):\n",
    "    if file.endswith(\".csv\"):\n",
    "        df = pd.read_csv(source + file) #leggo il csv nel dataframe\n",
    "        df.to_csv(destination + '/merged.csv', mode='a', header=False, index=False)"
   ]
  }
 ],
 "metadata": {
  "kernelspec": {
   "display_name": "Python 3",
   "language": "python",
   "name": "python3"
  },
  "language_info": {
   "codemirror_mode": {
    "name": "ipython",
    "version": 3
   },
   "file_extension": ".py",
   "mimetype": "text/x-python",
   "name": "python",
   "nbconvert_exporter": "python",
   "pygments_lexer": "ipython3",
   "version": "3.10.13"
  },
  "orig_nbformat": 4
 },
 "nbformat": 4,
 "nbformat_minor": 2
}
